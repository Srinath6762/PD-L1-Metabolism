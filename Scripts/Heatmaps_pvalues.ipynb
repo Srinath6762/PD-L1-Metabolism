{
 "cells": [
  {
   "cell_type": "code",
   "execution_count": 1,
   "id": "783ced38",
   "metadata": {},
   "outputs": [],
   "source": [
    "import os\n",
    "os.chdir(\"D:\\scRNA seq\\scRNA seq\\GSE147405\")\n",
    "import matplotlib.pyplot as plt\n",
    "import seaborn as sns\n",
    "import pandas as pd\n",
    "import csv\n",
    "import numpy as np\n",
    "from scipy.stats import linregress\n"
   ]
  },
  {
   "cell_type": "code",
   "execution_count": null,
   "id": "3c2230c3",
   "metadata": {},
   "outputs": [],
   "source": [
    "files = [f for f in os.listdir('.') if os.path.isfile(f)]"
   ]
  },
  {
   "cell_type": "code",
   "execution_count": null,
   "id": "8a662663",
   "metadata": {},
   "outputs": [],
   "source": [
    "#heatmaps\n",
    "for j in files:\n",
    "    df = pd.read_table(j, sep=\"\\t\")\n",
    "    del df['Unnamed: 0']\n",
    "    df1 = df.corr()\n",
    "    os.chdir(\"D:\\scRNA seq\\scRNA seq\\GSE147405\\Heatmaps_1\")\n",
    "    mask = np.triu(np.ones_like(df1, dtype=bool))\n",
    "    kws = dict(cbar_kws={\"ticks\":[-1,0,1]})\n",
    "    sns.heatmap(df1,mask=mask, cmap=\"RdBu_r\", vmin = -1.0, vmax=1.0, **kws)\n",
    "    plt.savefig(j +\"_\" + \"_Heatmap.jpg\" ,dpi=300, bbox_inches='tight')\n",
    "    plt.clf()\n",
    "    os.chdir(\"D:\\scRNA seq\\scRNA seq\\GSE147405\")"
   ]
  },
  {
   "cell_type": "code",
   "execution_count": null,
   "id": "cb591447",
   "metadata": {},
   "outputs": [],
   "source": [
    "#p-values\n",
    "for k in files:\n",
    "    corr_dict= {}\n",
    "    for i in list(df):\n",
    "        for j in list(df):\n",
    "            if(i!=j):\n",
    "                a,b,c,d,e= linregress(df[i], df[j])\n",
    "                corr_dict[i,j] = a,b,c,d,e\n",
    "            else:\n",
    "                continue\n",
    "    with open(\"Corr_stat_\"+k+\".csv\",'w') as out:\n",
    "        csv_out=csv.writer(out)\n",
    "        csv_out.writerow([ \"Signature1\",\"Signature2\",\"slope : slope of the regression line\", \"intercept : intercept of the regression line\", \"r-value : correlation coefficient\", \"p-value : two-sided p-value for a hypothesis test whose null hypothesis is that the slope is zero\",\"stderr : Standard error of the estimate\"])\n",
    "        for row in list(corr_dict.items()):\n",
    "            csv_out.writerow(row[0] + row[1])"
   ]
  }
 ],
 "metadata": {
  "kernelspec": {
   "display_name": "Python 3",
   "language": "python",
   "name": "python3"
  },
  "language_info": {
   "codemirror_mode": {
    "name": "ipython",
    "version": 3
   },
   "file_extension": ".py",
   "mimetype": "text/x-python",
   "name": "python",
   "nbconvert_exporter": "python",
   "pygments_lexer": "ipython3",
   "version": "3.8.8"
  }
 },
 "nbformat": 4,
 "nbformat_minor": 5
}
